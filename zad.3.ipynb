{
  "nbformat": 4,
  "nbformat_minor": 0,
  "metadata": {
    "colab": {
      "name": "zad.3.ipynb",
      "provenance": [],
      "authorship_tag": "ABX9TyOF36JaGKx94dwnx+vs1Vrh",
      "include_colab_link": true
    },
    "kernelspec": {
      "name": "python3",
      "display_name": "Python 3"
    }
  },
  "cells": [
    {
      "cell_type": "markdown",
      "metadata": {
        "id": "view-in-github",
        "colab_type": "text"
      },
      "source": [
        "<a href=\"https://colab.research.google.com/github/swistak7171/175IC-machine-learning/blob/master/zad.3.ipynb\" target=\"_parent\"><img src=\"https://colab.research.google.com/assets/colab-badge.svg\" alt=\"Open In Colab\"/></a>"
      ]
    },
    {
      "cell_type": "code",
      "metadata": {
        "colab": {
          "base_uri": "https://localhost:8080/"
        },
        "id": "CRwAcDS1C7Fx",
        "outputId": "616155cb-27c5-4831-e70e-0352ab715efe"
      },
      "source": [
        "print('Zadanie 1')"
      ],
      "execution_count": 1,
      "outputs": [
        {
          "output_type": "stream",
          "text": [
            "Zadanie 1\n"
          ],
          "name": "stdout"
        }
      ]
    }
  ]
}