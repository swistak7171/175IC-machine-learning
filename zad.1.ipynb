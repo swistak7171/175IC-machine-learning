{
  "nbformat": 4,
  "nbformat_minor": 0,
  "metadata": {
    "colab": {
      "name": "zad.1.ipynb",
      "provenance": [],
      "authorship_tag": "ABX9TyPOcZEPG09Oet8c/ITrNe6f",
      "include_colab_link": true
    },
    "kernelspec": {
      "name": "python3",
      "display_name": "Python 3"
    }
  },
  "cells": [
    {
      "cell_type": "markdown",
      "metadata": {
        "id": "view-in-github",
        "colab_type": "text"
      },
      "source": [
        "<a href=\"https://colab.research.google.com/github/swistak7171/175IC-machine-learning/blob/master/zad.1.ipynb\" target=\"_parent\"><img src=\"https://colab.research.google.com/assets/colab-badge.svg\" alt=\"Open In Colab\"/></a>"
      ]
    },
    {
      "cell_type": "code",
      "metadata": {
        "id": "fMa3lhV4xp4S",
        "outputId": "889638b9-6e16-44ec-aef3-f8900fa99205",
        "colab": {
          "base_uri": "https://localhost:8080/"
        }
      },
      "source": [
        "import numpy as np\n",
        "import pandas as pd\n",
        "from sklearn.preprocessing import LabelEncoder\n",
        "from sklearn.preprocessing import StandardScaler\n",
        "\n",
        "data = {\n",
        "  'size': ['L','M', 'XXL', 'S', 'XS', 'L', 'L', 'S', 'M', 'XL', 'XXL', 'XS', 'M', 'L', 'XXL'],\n",
        "  'color':['green','red', 'blue', 'yellow', 'white', 'black', 'pink', 'green', 'white', 'yellow', 'blue', 'blue', 'white', 'black', 'black'],\n",
        "  'gender':['female','female', 'male', 'female', 'male', 'female', 'male', 'male', 'male', 'female', 'male', 'female', 'female', 'female', 'male'],\n",
        "  'price':[149.0,79.0, 100.0, 50.0, 150.0, 99.0, 35.5, 45.5, 90.0, 99.00, 15.5, 20.15, 21.37, 100.50, 42.0],\n",
        "  'weight':[380,410, 150, 250, 210, 310, 270, 370, 400, 512, 415, 280, 385, 410, 155],\n",
        "  'bought':['no','yes', 'yes', 'no', 'yes', 'yes', 'yes', 'no', 'no', 'yes', 'no', 'no', 'yes', 'no', 'yes']\n",
        "}\n",
        "\n",
        "raw_data_frame = pd.DataFrame(data=data)\n",
        "data_frame = raw_data_frame.copy()\n",
        "# data_frame.info()\n",
        "\n",
        "for col in ['size', 'color', 'gender', 'bought']:\n",
        "  data_frame[col] = data_frame[col].astype('category')\n",
        "data_frame['weight'] = data_frame['weight'].astype('float') \n",
        "\n",
        "# data_frame.describe(include=['category']).T\n",
        "# print(data_frame)\n",
        "\n",
        "label_encoder = LabelEncoder()\n",
        "data_frame['bought'] = label_encoder.fit_transform(data_frame['bought'])\n",
        "label_encoder.classes_\n",
        "# print(data_frame)\n",
        "\n",
        "data_frame = pd.get_dummies(data=data_frame, drop_first=True)\n",
        "scaler = StandardScaler()\n",
        "data_frame[['price', 'weight']] = scaler.fit_transform(data_frame[['price', 'weight']])\n",
        "print(raw_data_frame)\n",
        "print(data_frame)\n"
      ],
      "execution_count": 37,
      "outputs": [
        {
          "output_type": "stream",
          "text": [
            "   size   color  gender   price  weight bought\n",
            "0     L   green  female  149.00     380     no\n",
            "1     M     red  female   79.00     410    yes\n",
            "2   XXL    blue    male  100.00     150    yes\n",
            "3     S  yellow  female   50.00     250     no\n",
            "4    XS   white    male  150.00     210    yes\n",
            "5     L   black  female   99.00     310    yes\n",
            "6     L    pink    male   35.50     270    yes\n",
            "7     S   green    male   45.50     370     no\n",
            "8     M   white    male   90.00     400     no\n",
            "9    XL  yellow  female   99.00     512    yes\n",
            "10  XXL    blue    male   15.50     415     no\n",
            "11   XS    blue  female   20.15     280     no\n",
            "12    M   white  female   21.37     385    yes\n",
            "13    L   black  female  100.50     410     no\n",
            "14  XXL   black    male   42.00     155    yes\n",
            "       price    weight  bought  ...  color_white  color_yellow  gender_male\n",
            "0   1.779593  0.519441       0  ...            0             0            0\n",
            "1   0.138306  0.814205       1  ...            0             0            0\n",
            "2   0.630692 -1.740421       1  ...            0             0            1\n",
            "3  -0.541656 -0.757872       0  ...            0             1            0\n",
            "4   1.803040 -1.150892       1  ...            1             0            1\n",
            "5   0.607245 -0.168343       1  ...            0             0            0\n",
            "6  -0.881637 -0.561363       1  ...            0             0            1\n",
            "7  -0.647167  0.421186       0  ...            0             0            1\n",
            "8   0.396222  0.715950       0  ...            1             0            1\n",
            "9   0.607245  1.816405       1  ...            0             1            0\n",
            "10 -1.350576  0.863333       0  ...            0             0            1\n",
            "11 -1.241548 -0.463108       0  ...            0             0            0\n",
            "12 -1.212943  0.568568       1  ...            1             0            0\n",
            "13  0.642416  0.814205       0  ...            0             0            0\n",
            "14 -0.729232 -1.691294       1  ...            0             0            1\n",
            "\n",
            "[15 rows x 15 columns]\n"
          ],
          "name": "stdout"
        }
      ]
    }
  ]
}