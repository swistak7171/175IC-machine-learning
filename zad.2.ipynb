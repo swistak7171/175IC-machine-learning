{
  "nbformat": 4,
  "nbformat_minor": 0,
  "metadata": {
    "colab": {
      "name": "zad.2.ipynb",
      "provenance": [],
      "authorship_tag": "ABX9TyN0axx/oZI4KjH1kA8Kr+qN",
      "include_colab_link": true
    },
    "kernelspec": {
      "name": "python3",
      "display_name": "Python 3"
    }
  },
  "cells": [
    {
      "cell_type": "markdown",
      "metadata": {
        "id": "view-in-github",
        "colab_type": "text"
      },
      "source": [
        "<a href=\"https://colab.research.google.com/github/swistak7171/175IC-machine-learning/blob/master/zad.2.ipynb\" target=\"_parent\"><img src=\"https://colab.research.google.com/assets/colab-badge.svg\" alt=\"Open In Colab\"/></a>"
      ]
    },
    {
      "cell_type": "code",
      "metadata": {
        "id": "VkE_LjGh2b9t"
      },
      "source": [
        "import pandas as pd\n",
        "import numpy as np\n",
        "\n",
        "data = {\n",
        "  'size': [np.nan,'M', 'XXL', 'S', 'XS', 'L', 'L', 'S', 'M', 'XL', np.nan, 'XS', 'M', 'L', 'XXL'],\n",
        "  'color':['green','red', 'blue', 'yellow', np.nan, 'black', 'pink', 'green', 'white', 'yellow', 'blue', 'blue', 'white', 'black', np.nan],\n",
        "  'gender':['female',np.nan, np.nan, np.nan, 'male', 'female', 'male', 'male', 'male', 'female', 'male', 'female', 'female', 'female', 'male'],\n",
        "  'price':[149.0,79.0, 100.0, 50.0, 150.0, 99.0, 35.5, 45.5, 90.0, 99.00, 15.5, 20.15, 21.37, 100.50, np.nan\n",
        "  'bought':['no',np.nan, 'yes', 'no', 'yes', 'yes', 'yes', 'no', 'no', np.nan, 'no', 'no', 'yes', 'no', 'yes']\n",
        "}"
      ],
      "execution_count": null,
      "outputs": []
    }
  ]
}