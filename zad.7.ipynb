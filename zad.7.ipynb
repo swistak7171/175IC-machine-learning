{
  "nbformat": 4,
  "nbformat_minor": 0,
  "metadata": {
    "colab": {
      "name": "zad.7.ipynb",
      "provenance": [],
      "authorship_tag": "ABX9TyOd6JusmtWsW3mFunNz0EDZ",
      "include_colab_link": true
    },
    "kernelspec": {
      "name": "python3",
      "display_name": "Python 3"
    }
  },
  "cells": [
    {
      "cell_type": "markdown",
      "metadata": {
        "id": "view-in-github",
        "colab_type": "text"
      },
      "source": [
        "<a href=\"https://colab.research.google.com/github/swistak7171/175IC-machine-learning/blob/master/zad.7.ipynb\" target=\"_parent\"><img src=\"https://colab.research.google.com/assets/colab-badge.svg\" alt=\"Open In Colab\"/></a>"
      ]
    },
    {
      "cell_type": "code",
      "metadata": {
        "colab": {
          "base_uri": "https://localhost:8080/",
          "height": 411
        },
        "id": "VH9nJgQlpzT8",
        "outputId": "3037a6e0-209f-4ae2-864a-e29853ac60a0"
      },
      "source": [
        "import numpy as np\r\n",
        "import pandas as pd\r\n",
        "import plotly.express as px\r\n",
        "from sklearn.datasets import make_blobs\r\n",
        "from sklearn.cluster import DBSCAN\r\n",
        "import matplotlib.pyplot as plt\r\n",
        "from sklearn.cluster import KMeans\r\n",
        "from sklearn.metrics import r2_score\r\n",
        "\r\n",
        "# data, _ = make_blobs(n_samples=1000, centers=3, random_state=50)\r\n",
        "# data_frame = pd.DataFrame(data, columns=['x1', 'x2'])\r\n",
        "# px.scatter(data_frame, 'x1', 'x2')\r\n",
        "\r\n",
        "# cluster = DBSCAN(eps=0.3, min_samples=5)\r\n",
        "# cluster.fit(data)\r\n",
        "\r\n",
        "# data_frame['cluster'] = cluster.labels_\r\n",
        "# px.scatter(data_frame, 'x1', 'x2', 'cluster', color_continuous_midpoint=0)\r\n",
        "\r\n",
        "# data_frame['cluster'] = cluster.labels_\r\n",
        "# px.scatter(data_frame, 'x1', 'x2', 'cluster', template='plotly_dark', color_continuous_midpoint=0)\r\n",
        "\r\n",
        "random_state = 100\r\n",
        "centers = [(10, 10), (5, 5), (1, 10), (15, 7)]\r\n",
        "data, _ = make_blobs(n_samples=1000, centers=centers, cluster_std=1.4, random_state=random_state)\r\n",
        "data_frame = pd.DataFrame(data, columns=['x1', 'x2'])\r\n",
        "px.scatter(data_frame, 'x1', 'x2')\r\n",
        "\r\n",
        "cluster = DBSCAN(eps=0.5, min_samples=4)\r\n",
        "cluster.fit(data)\r\n",
        "data_frame['cluster'] = cluster.labels_\r\n",
        "px.scatter(data_frame, 'x1', 'x2', 'cluster', color_continuous_midpoint=0)\r\n",
        "\r\n",
        "values = data_frame[['x1', 'x2']]\r\n",
        "means = KMeans(n_clusters=4, random_state=random_state).fit(values)\r\n",
        "data_frame['k_means'] = means.labels_\r\n",
        "k_means_centers = [tuple(value) for value in means.cluster_centers_]\r\n",
        "px.scatter(data_frame, 'x1', 'x2', 'k_means')\r\n",
        "\r\n",
        "dbscan_centers = data_frame.groupby(['cluster']).mean()\r\n",
        "dbscan_centers = dbscan_centers.drop(-1)\r\n",
        "dbscan_centers = dbscan_centers.drop(columns='k_means')\r\n",
        "dbscan_centers = [tuple(value) for value in dbscan_centers.values]\r\n",
        "\r\n",
        "sorted_centers = sorted(centers)\r\n",
        "k_means_sorted_centers = sorted(k_means_centers)\r\n",
        "dbscan_sorted_centers = sorted(dbscan_centers)\r\n",
        "print(k_means_sorted_centers)\r\n",
        "print(dbscan_sorted_centers)\r\n",
        "print(f\"KMeans accuracy: {r2_score(sorted_centers, k_means_sorted_centers)}\")\r\n",
        "print(f\"DBSCAN accuracy: {r2_score(sorted_centers, dbscan_sorted_centers)}\")"
      ],
      "execution_count": 38,
      "outputs": [
        {
          "output_type": "stream",
          "text": [
            "[(1.1362278359699527, 10.031075102761466), (4.959265357378667, 4.901796538409228), (10.081400461356596, 9.918479650582064), (15.006875595781876, 6.890068377905588)]\n",
            "[(0.8104991641854951, 7.405296413547601), (1.1188604060306657, 10.08030540508958), (2.2740439931094443, 5.162398052490617), (3.1616744438488302, 12.488081062257157), (3.8721393106027984, 7.955208391119002), (4.80941746520566, 7.93795652219322), (4.9732474986354145, 4.831917067132871), (7.194237529555229, 6.292815676257465), (8.10783663764766, 11.161103692379312), (12.473110034514681, 8.398200616929467), (12.730739478971772, 5.65941152507724)]\n",
            "KMeans accuracy: 0.9990635944696704\n"
          ],
          "name": "stdout"
        },
        {
          "output_type": "error",
          "ename": "ValueError",
          "evalue": "ignored",
          "traceback": [
            "\u001b[0;31m---------------------------------------------------------------------------\u001b[0m",
            "\u001b[0;31mValueError\u001b[0m                                Traceback (most recent call last)",
            "\u001b[0;32m<ipython-input-38-7732d70de1d0>\u001b[0m in \u001b[0;36m<module>\u001b[0;34m()\u001b[0m\n\u001b[1;32m     49\u001b[0m \u001b[0mprint\u001b[0m\u001b[0;34m(\u001b[0m\u001b[0mdbscan_sorted_centers\u001b[0m\u001b[0;34m)\u001b[0m\u001b[0;34m\u001b[0m\u001b[0;34m\u001b[0m\u001b[0m\n\u001b[1;32m     50\u001b[0m \u001b[0mprint\u001b[0m\u001b[0;34m(\u001b[0m\u001b[0;34mf\"KMeans accuracy: {r2_score(sorted_centers, k_means_sorted_centers)}\"\u001b[0m\u001b[0;34m)\u001b[0m\u001b[0;34m\u001b[0m\u001b[0;34m\u001b[0m\u001b[0m\n\u001b[0;32m---> 51\u001b[0;31m \u001b[0mprint\u001b[0m\u001b[0;34m(\u001b[0m\u001b[0;34mf\"DBSCAN accuracy: {r2_score(sorted_centers, dbscan_sorted_centers)}\"\u001b[0m\u001b[0;34m)\u001b[0m\u001b[0;34m\u001b[0m\u001b[0;34m\u001b[0m\u001b[0m\n\u001b[0m",
            "\u001b[0;32m/usr/local/lib/python3.6/dist-packages/sklearn/metrics/_regression.py\u001b[0m in \u001b[0;36mr2_score\u001b[0;34m(y_true, y_pred, sample_weight, multioutput)\u001b[0m\n\u001b[1;32m    575\u001b[0m     \"\"\"\n\u001b[1;32m    576\u001b[0m     y_type, y_true, y_pred, multioutput = _check_reg_targets(\n\u001b[0;32m--> 577\u001b[0;31m         y_true, y_pred, multioutput)\n\u001b[0m\u001b[1;32m    578\u001b[0m     \u001b[0mcheck_consistent_length\u001b[0m\u001b[0;34m(\u001b[0m\u001b[0my_true\u001b[0m\u001b[0;34m,\u001b[0m \u001b[0my_pred\u001b[0m\u001b[0;34m,\u001b[0m \u001b[0msample_weight\u001b[0m\u001b[0;34m)\u001b[0m\u001b[0;34m\u001b[0m\u001b[0;34m\u001b[0m\u001b[0m\n\u001b[1;32m    579\u001b[0m \u001b[0;34m\u001b[0m\u001b[0m\n",
            "\u001b[0;32m/usr/local/lib/python3.6/dist-packages/sklearn/metrics/_regression.py\u001b[0m in \u001b[0;36m_check_reg_targets\u001b[0;34m(y_true, y_pred, multioutput, dtype)\u001b[0m\n\u001b[1;32m     82\u001b[0m \u001b[0;34m\u001b[0m\u001b[0m\n\u001b[1;32m     83\u001b[0m     \"\"\"\n\u001b[0;32m---> 84\u001b[0;31m     \u001b[0mcheck_consistent_length\u001b[0m\u001b[0;34m(\u001b[0m\u001b[0my_true\u001b[0m\u001b[0;34m,\u001b[0m \u001b[0my_pred\u001b[0m\u001b[0;34m)\u001b[0m\u001b[0;34m\u001b[0m\u001b[0;34m\u001b[0m\u001b[0m\n\u001b[0m\u001b[1;32m     85\u001b[0m     \u001b[0my_true\u001b[0m \u001b[0;34m=\u001b[0m \u001b[0mcheck_array\u001b[0m\u001b[0;34m(\u001b[0m\u001b[0my_true\u001b[0m\u001b[0;34m,\u001b[0m \u001b[0mensure_2d\u001b[0m\u001b[0;34m=\u001b[0m\u001b[0;32mFalse\u001b[0m\u001b[0;34m,\u001b[0m \u001b[0mdtype\u001b[0m\u001b[0;34m=\u001b[0m\u001b[0mdtype\u001b[0m\u001b[0;34m)\u001b[0m\u001b[0;34m\u001b[0m\u001b[0;34m\u001b[0m\u001b[0m\n\u001b[1;32m     86\u001b[0m     \u001b[0my_pred\u001b[0m \u001b[0;34m=\u001b[0m \u001b[0mcheck_array\u001b[0m\u001b[0;34m(\u001b[0m\u001b[0my_pred\u001b[0m\u001b[0;34m,\u001b[0m \u001b[0mensure_2d\u001b[0m\u001b[0;34m=\u001b[0m\u001b[0;32mFalse\u001b[0m\u001b[0;34m,\u001b[0m \u001b[0mdtype\u001b[0m\u001b[0;34m=\u001b[0m\u001b[0mdtype\u001b[0m\u001b[0;34m)\u001b[0m\u001b[0;34m\u001b[0m\u001b[0;34m\u001b[0m\u001b[0m\n",
            "\u001b[0;32m/usr/local/lib/python3.6/dist-packages/sklearn/utils/validation.py\u001b[0m in \u001b[0;36mcheck_consistent_length\u001b[0;34m(*arrays)\u001b[0m\n\u001b[1;32m    210\u001b[0m     \u001b[0;32mif\u001b[0m \u001b[0mlen\u001b[0m\u001b[0;34m(\u001b[0m\u001b[0muniques\u001b[0m\u001b[0;34m)\u001b[0m \u001b[0;34m>\u001b[0m \u001b[0;36m1\u001b[0m\u001b[0;34m:\u001b[0m\u001b[0;34m\u001b[0m\u001b[0;34m\u001b[0m\u001b[0m\n\u001b[1;32m    211\u001b[0m         raise ValueError(\"Found input variables with inconsistent numbers of\"\n\u001b[0;32m--> 212\u001b[0;31m                          \" samples: %r\" % [int(l) for l in lengths])\n\u001b[0m\u001b[1;32m    213\u001b[0m \u001b[0;34m\u001b[0m\u001b[0m\n\u001b[1;32m    214\u001b[0m \u001b[0;34m\u001b[0m\u001b[0m\n",
            "\u001b[0;31mValueError\u001b[0m: Found input variables with inconsistent numbers of samples: [4, 11]"
          ]
        }
      ]
    }
  ]
}